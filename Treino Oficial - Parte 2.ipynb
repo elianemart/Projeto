{
 "metadata": {
  "name": ""
 },
 "nbformat": 3,
 "nbformat_minor": 0,
 "worksheets": [
  {
   "cells": [
    {
     "cell_type": "code",
     "collapsed": false,
     "input": [
      "import codecs\n",
      "import unicodedata\n",
      "import nltk\n",
      "from nltk.collocations import *\n",
      "\n",
      "\n",
      "path_en = \"/home/lili/Documents/Projeto Final do Mestrado/treino/ingles/\"\n",
      "path_pt = \"/home/lili/Documents/Projeto Final do Mestrado/treino/portugues/\""
     ],
     "language": "python",
     "metadata": {},
     "outputs": []
    },
    {
     "cell_type": "raw",
     "metadata": {},
     "source": [
      "Utilizando os arquivos sem pontua\u00e7\u00e3o (da pasta novop4), iremos testar m\u00e9tricas, levantar N-gramas, substituir os mesmo nos textos com algumas pontua\u00e7\u00f5es (passo 4) e retirar stopwords."
     ]
    },
    {
     "cell_type": "raw",
     "metadata": {},
     "source": [
      "Testar qual m\u00e9trica seria utilizada, analisando os n-gramas de um dos textos. Os textos foram copiados na pasta genesis do nltk."
     ]
    },
    {
     "cell_type": "code",
     "collapsed": false,
     "input": [
      "trigram_measures = nltk.collocations.TrigramAssocMeasures()\n",
      "find = TrigramCollocationFinder.from_words(nltk.corpus.genesis.words('filept23.txt'))\n",
      "find.apply_freq_filter(100)\n",
      "T23 = find.score_ngrams(trigram_measures.raw_freq)\n",
      "print len(T23)"
     ],
     "language": "python",
     "metadata": {},
     "outputs": []
    },
    {
     "cell_type": "markdown",
     "metadata": {},
     "source": [
      "Foi analisado cada um dos trigramas gerados no T23 (1126 no total), e foi contabilizado quantos (e quais) bigramas, trigramas e quadrigramas eram considerados v\u00e1lidos.\n",
      "Eles foram guardados em vari\u00e1vei chamadas Bi, Tri e Quadri.\n",
      "\n",
      "len(Bi) = 42\n",
      "len(Tri) = 20\n",
      "len(Quadri) = 16\n"
     ]
    },
    {
     "cell_type": "code",
     "collapsed": false,
     "input": [
      "Tmi = find.nbest(trigram_measures.mi_like, 112) \n",
      "Tpm = find.nbest(trigram_measures.pmi 112) \n",
      "Tchi = find.nbest(trigram_measures.chi_sq, 112) \n",
      "Tjac = find.nbest(trigram_measures.jaccard, 112) \n",
      "Tlike = find.nbest(trigram_measures.likelihood_ratio, 112) \n",
      "Tpoi = find.nbest(trigram_measures.poisson_stirling, 112) \n",
      "Tst = find.nbest(trigram_measures.student_t, 112) "
     ],
     "language": "python",
     "metadata": {},
     "outputs": []
    },
    {
     "cell_type": "code",
     "collapsed": false,
     "input": [
      "x = 0\n",
      "\n",
      "for i in range(len(Tpm)):\n",
      "    if Tpm[i] in Tri:\n",
      "        x = x+1\n",
      "print 'Tri', x\n",
      "\n",
      "y = 0\n",
      "\n",
      "for i in range(len(Tpm)):\n",
      "    if Tpm[i] in Quadri:\n",
      "        y = y+1\n",
      "print 'Quadri', y"
     ],
     "language": "python",
     "metadata": {},
     "outputs": []
    },
    {
     "cell_type": "markdown",
     "metadata": {},
     "source": [
      "Output:\n",
      "Tri 11\n",
      "Quadri 4"
     ]
    },
    {
     "cell_type": "code",
     "collapsed": false,
     "input": [
      "x = 0\n",
      "\n",
      "for i in range(len(Tchi)):\n",
      "    if Tchi[i] in Tri:\n",
      "        x = x+1\n",
      "print 'Tri', x\n",
      "\n",
      "y = 0\n",
      "\n",
      "for i in range(len(Tchi)):\n",
      "    if Tchi[i] in Quadri:\n",
      "        y = y+1\n",
      "print 'Quadri', y"
     ],
     "language": "python",
     "metadata": {},
     "outputs": []
    },
    {
     "cell_type": "markdown",
     "metadata": {},
     "source": [
      "Output: Tri 8 Quadri 5\n"
     ]
    },
    {
     "cell_type": "code",
     "collapsed": false,
     "input": [
      "x = 0\n",
      "\n",
      "for i in range(len(Tjac)):\n",
      "    if Tjac[i] in Tri:\n",
      "        x = x+1\n",
      "print 'Tri', x\n",
      "\n",
      "y = 0\n",
      "\n",
      "for i in range(len(Tjac)):\n",
      "    if Tjac[i] in Quadri:\n",
      "        y = y+1\n",
      "print 'Quadri', y"
     ],
     "language": "python",
     "metadata": {},
     "outputs": []
    },
    {
     "cell_type": "markdown",
     "metadata": {},
     "source": [
      "Output: Tri 9 Quadri 4"
     ]
    },
    {
     "cell_type": "code",
     "collapsed": false,
     "input": [
      "x = 0\n",
      "\n",
      "for i in range(len(Tlike)):\n",
      "    if Tlike[i] in Tri:\n",
      "        x = x+1\n",
      "print 'Tri', x\n",
      "\n",
      "y = 0\n",
      "\n",
      "for i in range(len(Tlike)):\n",
      "    if Tlike[i] in Quadri:\n",
      "        y = y+1\n",
      "print 'Quadri', y"
     ],
     "language": "python",
     "metadata": {},
     "outputs": []
    },
    {
     "cell_type": "markdown",
     "metadata": {},
     "source": [
      "Output: Tri 7\n",
      "Quadri 2\n"
     ]
    },
    {
     "cell_type": "code",
     "collapsed": false,
     "input": [
      "x = 0\n",
      "\n",
      "for i in range(len(Tpoi)):\n",
      "    if Tpoi[i] in Tri:\n",
      "        x = x+1\n",
      "print 'Tri', x\n",
      "\n",
      "y = 0\n",
      "\n",
      "for i in range(len(Tpoi)):\n",
      "    if Tpoi[i] in Quadri:\n",
      "        y = y+1\n",
      "print 'Quadri', y"
     ],
     "language": "python",
     "metadata": {},
     "outputs": []
    },
    {
     "cell_type": "markdown",
     "metadata": {},
     "source": [
      "Output: Tri 5\n",
      "Quadri 6\n"
     ]
    },
    {
     "cell_type": "code",
     "collapsed": false,
     "input": [
      "x = 0\n",
      "\n",
      "for i in range(len(Tmi)):\n",
      "    if Tmi[i] in Tri:\n",
      "        x = x+1\n",
      "print 'Tri', x\n",
      "\n",
      "y = 0\n",
      "\n",
      "for i in range(len(Tmi)):\n",
      "    if Tmi[i] in Quadri:\n",
      "        y = y+1\n",
      "print 'Quadri', y"
     ],
     "language": "python",
     "metadata": {},
     "outputs": []
    },
    {
     "cell_type": "markdown",
     "metadata": {},
     "source": [
      "Output: Tri 12\n",
      "Quadri 7\n"
     ]
    },
    {
     "cell_type": "raw",
     "metadata": {},
     "source": [
      "A m\u00e9trica que obteve o melhor resultado foi a Mi-like, que foi a utilizada nos demais textos.\n",
      "No exemplo abaixo s\u00e3o levantados 10% dos total de trigramas encontrados no filept0, depois de passar o filtro de 100, e eles s\u00e3o analisados manualmente.\n",
      "\n",
      "O total de trigramas nos textos do Portugu\u00eas foram:\n",
      "[1373, 1576, 1673, 1272, 1430, 1169, 1355, 1312, 1463, 1593, 1996, 1446, 1845, 1168, 1322, 1199, 1063, 1262, 1426, 1421, 1835, 80, 1149, 1126, 1274, 1696]\n",
      "\n",
      "O total de trigramas nos textos do Ingl\u00eas foram:\n",
      "[841, 1429, 1413, 5147, 1986, 1532, 1393, 1459, 1439, 1441, 1463, 1525, 1805, 1414, 1492, 1474, 1540, 1489, 1482, 1705, 2378, 1441, 1471, 2474, 1485, 1614, 1445, 1503, 1543, 1489, 1445, 1487, 1410, 1495, 1425, 1484, 2825, 1460, 1429, 5150, 1636, 1529]\n"
     ]
    },
    {
     "cell_type": "code",
     "collapsed": false,
     "input": [
      "trigram_measures = nltk.collocations.TrigramAssocMeasures()\n",
      "find = TrigramCollocationFinder.from_words(nltk.corpus.genesis.words('filept0.txt'))\n",
      "find.apply_freq_filter(100)\n",
      "Tmi = find.nbest(trigram_measures.mi_like, 137) "
     ],
     "language": "python",
     "metadata": {},
     "outputs": []
    },
    {
     "cell_type": "markdown",
     "metadata": {},
     "source": [
      "S\u00e3o criadas listas bi, tri e quadri (para cada uma das l\u00ednguas). Depois s\u00e3o criadas as listas bi2, tri2, quadri2."
     ]
    },
    {
     "cell_type": "code",
     "collapsed": false,
     "input": [
      "bi2 = []\n",
      "for i in range(len(bi)):\n",
      "    bi2.append(bi[i][0] + '_' + bi[i][1])\n",
      "\n",
      "tri2 = []\n",
      "for i in range(len(tri)):\n",
      "    tri2.append(tri[i][0] + '_' + tri[i][1] + '_' + tri[i][2])\n",
      "    \n",
      "quadri2 = []\n",
      "for i in range(len(quadri)):\n",
      "    quadri2.append(quadri[i][0] + '_' + quadri[i][1] + '_' + quadri[i][2] + '_' + quadri[i][3])"
     ],
     "language": "python",
     "metadata": {},
     "outputs": []
    },
    {
     "cell_type": "raw",
     "metadata": {},
     "source": [
      "Podem ser criadas listas com n>3, ent\u00e3o h\u00e1 essa op\u00e7\u00e3o no c\u00f3digo abaixo caso essas listas n\u00e3o sejam vazias."
     ]
    },
    {
     "cell_type": "code",
     "collapsed": false,
     "input": [
      "#Para o Ingl\u00eas\n",
      "\n",
      "data_in = path_en + \"passo4/enfile\"\n",
      "data_out = path_en + \"passo5/enfile\"\n",
      "\n",
      "for i in range(42):\n",
      "    abrir = codecs.open(data_in + str(i) + '.txt', encoding = 'utf-8', mode = 'r')\n",
      "    g = codecs.open(data_out + str(i) + '.txt', encoding = 'utf-8', mode = 'w')\n",
      "    abrir.seek(0)\n",
      "    old = abrir.read().split()\n",
      "            \n",
      "    k = 0\n",
      "    while k < len(old):\n",
      "        #if k<(len(old) - 7) and (old[k] + '_' + old[k+1] + '_' + old[k+2] + '_' + old[k+3] + '_' + old[k+4] + '_' + old[k+5] + '_' + old[k+6] + '_' + old[k+7]) in oito2:\n",
      "        #    g.write(old[k] + '_' + old[k+1] + '_' + old[k+2] + '_' + old[k+3] + '_' + old[k+4] + '_' + old[k+5] + '_' + old[k+6] + '_' + old[k+7])\n",
      "        #    if k+7 < len(old) - 1:\n",
      "        #        g.write(' ')\n",
      "        #    k = k + 8\n",
      "        #if k<(len(old) - 6) and (old[k] + '_' + old[k+1] + '_' + old[k+2] + '_' + old[k+3] + '_' + old[k+4] + '_' + old[k+5] + '_' + old[k+6]) in sete2:\n",
      "        #    g.write(old[k] + '_' + old[k+1] + '_' + old[k+2] + '_' + old[k+3] + '_' + old[k+4] + '_' + old[k+5] + '_' + old[k+6])\n",
      "        #    if k+6 < len(old) - 1:\n",
      "        #        g.write(' ')\n",
      "        #    k = k + 7\n",
      "        #elif k<(len(old) - 5) and (old[k] + '_' + old[k+1] + '_' + old[k+2] + '_' + old[k+3] + '_' + old[k+4] + '_' + old[k+5]) in seis2:\n",
      "        #    g.write(old[k] + '_' + old[k+1] + '_' + old[k+2] + '_' + old[k+3] + '_' + old[k+4] + '_' + old[k+5])\n",
      "        #    if k+5 < len(old) - 1:\n",
      "        #        g.write(' ')\n",
      "        #    k = k + 6            \n",
      "        #elif k<(len(old) - 4) and (old[k] + '_' + old[k+1] + '_' + old[k+2] + '_' + old[k+3] + '_' + old[k+4]) in cinco2:\n",
      "        #    g.write(old[k] + '_' + old[k+1] + '_' + old[k+2] + '_' + old[k+3] + '_' + old[k+4])\n",
      "        #    if k+4 < len(old) - 1:\n",
      "        #        g.write(' ')\n",
      "        #    k = k + 5    \n",
      "        if k<(len(old) - 3) and (old[k] + '_' + old[k+1] + '_' + old[k+2] + '_' + old[k+3]) in quadri2:\n",
      "            g.write(old[k] + '_' + old[k+1] + '_' + old[k+2] + '_' + old[k+3])\n",
      "            if k+3 < len(old) - 1:\n",
      "                g.write(' ')\n",
      "            k = k + 4\n",
      "        elif k<(len(old) - 2) and (old[k] + '_' + old[k+1] + '_' + old[k+2]) in tri2:\n",
      "            g.write(old[k] + '_' + old[k+1] + '_' + old[k+2])\n",
      "            if k+2 < len(old) - 1:\n",
      "                g.write(' ')\n",
      "            k = k + 3        \n",
      "        elif k<(len(old) - 1) and (old[k] + '_' + old[k+1]) in bi2:\n",
      "            g.write(old[k] + '_' + old[k+1])\n",
      "            if k+1 < len(old) - 1:\n",
      "                g.write(' ')\n",
      "            k = k + 2\n",
      "            \n",
      "        else:\n",
      "            g.write(old[k])\n",
      "            if k < len(old) - 1:\n",
      "                g.write(' ')\n",
      "            k = k + 1\n",
      "    g.close()"
     ],
     "language": "python",
     "metadata": {},
     "outputs": []
    },
    {
     "cell_type": "code",
     "collapsed": false,
     "input": [
      "#Para o Portugu\u00eas\n",
      "\n",
      "data_in = path_pt + \"passo4/ptfile\"\n",
      "data_out = path_pt + \"passo5/ptfile\"\n",
      "\n",
      "for i in range(26):\n",
      "    abrir = codecs.open(data_in + str(i) + '.txt', encoding = 'utf-8', mode = 'r')\n",
      "    g = codecs.open(data_out + str(i) + '.txt', encoding = 'utf-8', mode = 'w')\n",
      "    abrir.seek(0)\n",
      "    old = abrir.read().split()\n",
      "            \n",
      "    k = 0\n",
      "    while k < len(old):\n",
      "        #if k<(len(old) - 7) and (old[k] + '_' + old[k+1] + '_' + old[k+2] + '_' + old[k+3] + '_' + old[k+4] + '_' + old[k+5] + '_' + old[k+6] + '_' + old[k+7]) in oito2:\n",
      "        #    g.write(old[k] + '_' + old[k+1] + '_' + old[k+2] + '_' + old[k+3] + '_' + old[k+4] + '_' + old[k+5] + '_' + old[k+6] + '_' + old[k+7])\n",
      "        #    if k+7 < len(old) - 1:\n",
      "        #        g.write(' ')\n",
      "        #    k = k + 8\n",
      "        #if k<(len(old) - 6) and (old[k] + '_' + old[k+1] + '_' + old[k+2] + '_' + old[k+3] + '_' + old[k+4] + '_' + old[k+5] + '_' + old[k+6]) in sete2:\n",
      "        #    g.write(old[k] + '_' + old[k+1] + '_' + old[k+2] + '_' + old[k+3] + '_' + old[k+4] + '_' + old[k+5] + '_' + old[k+6])\n",
      "        #    if k+6 < len(old) - 1:\n",
      "        #        g.write(' ')\n",
      "        #    k = k + 7\n",
      "        #elif k<(len(old) - 5) and (old[k] + '_' + old[k+1] + '_' + old[k+2] + '_' + old[k+3] + '_' + old[k+4] + '_' + old[k+5]) in seis2:\n",
      "        #    g.write(old[k] + '_' + old[k+1] + '_' + old[k+2] + '_' + old[k+3] + '_' + old[k+4] + '_' + old[k+5])\n",
      "        #    if k+5 < len(old) - 1:\n",
      "        #        g.write(' ')\n",
      "        #    k = k + 6            \n",
      "        #elif k<(len(old) - 4) and (old[k] + '_' + old[k+1] + '_' + old[k+2] + '_' + old[k+3] + '_' + old[k+4]) in cinco2:\n",
      "        #    g.write(old[k] + '_' + old[k+1] + '_' + old[k+2] + '_' + old[k+3] + '_' + old[k+4])\n",
      "        #    if k+4 < len(old) - 1:\n",
      "        #        g.write(' ')\n",
      "        #    k = k + 5    \n",
      "        if k<(len(old) - 3) and (old[k] + '_' + old[k+1] + '_' + old[k+2] + '_' + old[k+3]) in quadri2:\n",
      "            g.write(old[k] + '_' + old[k+1] + '_' + old[k+2] + '_' + old[k+3])\n",
      "            if k+3 < len(old) - 1:\n",
      "                g.write(' ')\n",
      "            k = k + 4\n",
      "        elif k<(len(old) - 2) and (old[k] + '_' + old[k+1] + '_' + old[k+2]) in tri2:\n",
      "            g.write(old[k] + '_' + old[k+1] + '_' + old[k+2])\n",
      "            if k+2 < len(old) - 1:\n",
      "                g.write(' ')\n",
      "            k = k + 3        \n",
      "        elif k<(len(old) - 1) and (old[k] + '_' + old[k+1]) in bi2:\n",
      "            g.write(old[k] + '_' + old[k+1])\n",
      "            if k+1 < len(old) - 1:\n",
      "                g.write(' ')\n",
      "            k = k + 2\n",
      "            \n",
      "        else:\n",
      "            g.write(old[k])\n",
      "            if k < len(old) - 1:\n",
      "                g.write(' ')\n",
      "            k = k + 1\n",
      "    g.close()"
     ],
     "language": "python",
     "metadata": {},
     "outputs": []
    },
    {
     "cell_type": "raw",
     "metadata": {},
     "source": [
      "Retirar as stopwords dos textos"
     ]
    },
    {
     "cell_type": "code",
     "collapsed": false,
     "input": [
      "sw_en = [u'our', u'ours', u'it', u'its', u'itself', u'what', u'which', u'who', u'whom', u'this', u'that', u'these', \n",
      "         u'those', u'a', u'an', u'the', u'and', u'but', u'if', u'or', u'because', u'as', u'until', u'while', u'of', u'at', \n",
      "         u'by', u'for', u'with', u'about', u'against', u'between', u'into', u'through', u'during', u'before', u'after', \n",
      "         u'above', u'below', u'to', u'from', u'up', u'down', u'in', u'out', u'on', u'off', u'over', u'under', u'again', \n",
      "         u'further', u'then', u'once', u'here', u'there', u'when', u'where', u'why', u'how', u'all', u'any', u'both', u'each', \n",
      "         u'few', u'more', u'most', u'other', u'some', u'such', u'no', u'nor', u'not', u'only', u'own', u'same', u'so', u'than', \n",
      "         u'too', u'very', u's', u't', u'can', u'will', u'just', u'don', u'should', u'now']\n",
      "\n",
      "sw_pt = [u'de', u'os', u'da', u'lhes', u'essas', u'e', u'o', u'se', u'por', u'as', u'aquele', u'entre', u'n\u00e3o', u'\u00e0s', u'nos', \n",
      "         u'pela', u'havia', u'me', u'como', u'aqueles', u'isso', u'pelos', u'estes', u'depois', u'este', u'para', u's\u00f3', \n",
      "         u'quem', u'isto', u'do', u'vos', u'mais', u'mesmo', u'num', u'a', u'no', u'\u00e0', u'em', u'esses', u'pelas', u'com', \n",
      "         u'ao', u'que', u'na', u'te', u'aos', u'dos', u'ou', u'aquela', u'das', u'esta', u'nem', u'j\u00e1', u'at\u00e9', u'esse', \n",
      "         u'mas', u'quando', u'aquelas', u'nossos', u'tamb\u00e9m', u'lhe', u'sem', u'essa', u'qual', u'pelo', u'nas', u'numa', \n",
      "         u'aquilo', u'menos', u'por\u00e9m', u'at\u00e9']"
     ],
     "language": "python",
     "metadata": {},
     "outputs": []
    },
    {
     "cell_type": "code",
     "collapsed": false,
     "input": [
      "#Para o Portugu\u00eas\n",
      "\n",
      "data_in = path_pt + \"passo5/ptfile\"\n",
      "data_out = path_pt + \"passo6/ptfile\"\n",
      "\n",
      "\n",
      "pt_eu = [u'actualmente', u'facto', u'actual', u'recta', u'direc\u00e7\u00e3o', u'protec\u00e7\u00e3o', u'libelinha', u'h\u00famidas', u'h\u00famido', \n",
      "          u'toiros', u'objectivo', u'directamente', u'sec\u00e7\u00e3o', u'ac\u00e7\u00e3o', u'actriz', u'insecto', u'arquitecto', u'arquitectura',\n",
      "          u'ermida', u'comboios', u'comboio', u'sector', u'carris', u'estrellas', u'equipas', u'actor']\n",
      "pt_br = [u'atualmente', u'fato', u'atual', u'reta', u'dire\u00e7\u00e3o', u'prote\u00e7\u00e3o', u'lib\u00e9lula', u'\u00famidas', u'\u00famido',\n",
      "         u'touros', u'objetivo', u'diretamente', u'se\u00e7\u00e3o', u'a\u00e7\u00e3o', u'atriz', u'inseto', u'arquitecto', u'arquitetura',\n",
      "         u'capela', u'trens', u'trem', u'setor', u'trilhos', u'estrelas', u'equipes', u'ator']\n",
      "\n",
      "\n",
      "\n",
      "for j in range(26):\n",
      "    abrir = codecs.open(data_in + str(j) + '.txt', encoding = 'utf-8', mode = 'r')\n",
      "    text = codecs.open(data_out + str(j) + '.txt', encoding = 'utf-8', mode = 'w')\n",
      "    abrir.seek(0)\n",
      "    t = abrir.read().split()\n",
      "\n",
      "    texto = []\n",
      "    \n",
      "    for i in range(len(t)):\n",
      "        if t[i] not in sw_pt:\n",
      "            if t[i] in pt_eu:\n",
      "                text.write(pt_br[pt_eu.index(t[i])])\n",
      "                text.write(' ')\n",
      "            else:\n",
      "                text.write(t[i])\n",
      "                text.write(' ')\n",
      "text.close()"
     ],
     "language": "python",
     "metadata": {},
     "outputs": []
    },
    {
     "cell_type": "code",
     "collapsed": false,
     "input": [
      "#Para o Ingl\u00eas\n",
      "\n",
      "data_in = path_en + \"passo5/enfile\"\n",
      "data_out = path_en + \"passo6/enfile\"\n",
      "\n",
      "for j in range(42):\n",
      "    abrir = codecs.open(data_in + str(j) + '.txt', encoding = 'utf-8', mode = 'r')\n",
      "    text = codecs.open(data_out + str(j) + '.txt', encoding = 'utf-8', mode = 'w')\n",
      "    abrir.seek(0)\n",
      "    t = abrir.read().split()\n",
      "\n",
      "    texto = []\n",
      "    \n",
      "    for i in range(len(t)):\n",
      "        if t[i] not in sw_en:\n",
      "            text.write(t[i])\n",
      "            text.write(' ')\n",
      "text.close()"
     ],
     "language": "python",
     "metadata": {},
     "outputs": []
    }
   ],
   "metadata": {}
  }
 ]
}