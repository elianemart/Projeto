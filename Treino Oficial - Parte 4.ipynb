{
 "metadata": {
  "name": ""
 },
 "nbformat": 3,
 "nbformat_minor": 0,
 "worksheets": [
  {
   "cells": [
    {
     "cell_type": "code",
     "collapsed": false,
     "input": [
      "import gensim\n",
      "import codecs\n",
      "import numpy as np\n",
      "from numpy import linalg as LA\n",
      "import matplotlib.pyplot as plt\n",
      "\n",
      "path_en = \"/home/lili/Documents/Projeto Final do Mestrado/treino/ingles/\"\n",
      "path_pt = \"/home/lili/Documents/Projeto Final do Mestrado/treino/portugues/\"\n",
      "\n",
      "model_pt = gensim.models.Word2Vec.load(path_pt + \"model-portuguese\")\n",
      "model_en = gensim.models.Word2Vec.load(path_en + \"model-english\")"
     ],
     "language": "python",
     "metadata": {},
     "outputs": []
    },
    {
     "cell_type": "markdown",
     "metadata": {},
     "source": [
      "Checando o tamanho do dicion\u00e1rio e se todas as palavras tem uma tradu\u00e7\u00e3o."
     ]
    },
    {
     "cell_type": "code",
     "collapsed": false,
     "input": [
      "data = model_pt + \"dicionario\"\n",
      "abrir = codecs.open(data, encoding = 'utf-8', mode = 'r')\n",
      "abrir.seek(0)\n",
      "t = abrir.read().split()\n",
      "\n",
      "pt = []\n",
      "en = []\n",
      "\n",
      "print len(t)\n",
      "\n",
      "for i in range(len(t)):\n",
      "    if i%2 == 0:\n",
      "        pt.append(t[i])\n",
      "    else:\n",
      "        en.append(t[i])\n",
      "print len(pt), len(en)\n",
      "\n",
      "t.close()"
     ],
     "language": "python",
     "metadata": {},
     "outputs": []
    },
    {
     "cell_type": "markdown",
     "metadata": {},
     "source": [
      "Checando se todas as palavras do dicion\u00e1rio existem no modelo"
     ]
    },
    {
     "cell_type": "code",
     "collapsed": false,
     "input": [
      "#PORTUGUES\n",
      "\n",
      "vetores = []\n",
      "on_model = []\n",
      "not_on_model = []\n",
      "\n",
      "data1 = path_pt + \"on_model.txt\"\n",
      "data2 = path_pt + \"not_on_model.txt\"\n",
      "\n",
      "mod = codecs.open(data1, encoding = 'utf-8', mode = 'w')\n",
      "n_mod = codecs.open(data2, encoding = 'utf-8', mode = 'w')\n",
      "\n",
      "for i in range(4996):\n",
      "    try:\n",
      "        vetores.append(model_pt[pt[i]])\n",
      "        on_model.append(pt[i])\n",
      "        mod.write(pt[i])\n",
      "        mod.write('\\n')\n",
      "    except KeyError:\n",
      "        not_on_model.append(pt[i])\n",
      "        n_mod.write(pt[i])\n",
      "        n_mod.write('\\n')\n",
      "mod.close()\n",
      "n_mod.close()\n",
      "print len(not_on_model), len(on_model), len(vetores)\n",
      "\n",
      "import numpy as np\n",
      "with file(path_pt + \"vetores.txt\", 'w') as outfile:\n",
      "    for slice_2d in vetores:\n",
      "        np.savetxt(outfile, slice_2d)\n",
      "print not_on_model"
     ],
     "language": "python",
     "metadata": {},
     "outputs": []
    },
    {
     "cell_type": "code",
     "collapsed": false,
     "input": [
      "#INGLES\n",
      "vetores = []\n",
      "on_model = []\n",
      "not_on_model = []\n",
      "pos = []\n",
      "\n",
      "data1 = path_en + \"on_model.txt\"\n",
      "data2 = path_en + \"not_on_model.txt\"\n",
      "\n",
      "mod = codecs.open(data1, encoding = 'utf-8', mode = 'w')\n",
      "n_mod = codecs.open(data2, encoding = 'utf-8', mode = 'w')\n",
      "\n",
      "for i in range(4996):\n",
      "    try:\n",
      "        vetores.append(model_en[en[i]])\n",
      "        on_model.append(en[i])\n",
      "        pos.append(i)\n",
      "        mod.write(en[i])\n",
      "        mod.write('\\n')\n",
      "    except KeyError:\n",
      "        not_on_model.append(en[i])\n",
      "        n_mod.write(en[i])\n",
      "        n_mod.write('\\n')\n",
      "mod.close()\n",
      "n_mod.close()\n",
      "print len(not_on_model), len(on_model), len(vetores)\n",
      "\n",
      "import numpy as np\n",
      "with file(path_en + \"vetores.txt\", 'w') as outfile:\n",
      "    for slice_2d in vetores:\n",
      "        np.savetxt(outfile, slice_2d)\n",
      "        \n",
      "print not_on_model"
     ],
     "language": "python",
     "metadata": {},
     "outputs": []
    },
    {
     "cell_type": "raw",
     "metadata": {},
     "source": [
      "PCA"
     ]
    },
    {
     "cell_type": "code",
     "collapsed": false,
     "input": [
      "animais = []\n",
      "\n",
      "animais.append(model_pt['mulher'])\n",
      "animais.append(model_pt['homem'])\n",
      "animais.append(model_pt['bonito'])\n",
      "animais.append(model_pt['feio'])\n",
      "animais.append(model_pt['grande'])\n",
      "animais.append(model_pt['pequeno'])"
     ],
     "language": "python",
     "metadata": {},
     "outputs": []
    },
    {
     "cell_type": "code",
     "collapsed": false,
     "input": [
      "animais = []\n",
      "\n",
      "animais.append(model_en['woman'])\n",
      "animais.append(model_en['man'])\n",
      "animais.append(model_en['pretty'])\n",
      "animais.append(model_en['ugly'])\n",
      "animais.append(model_en['big'])\n",
      "animais.append(model_en['small'])"
     ],
     "language": "python",
     "metadata": {},
     "outputs": []
    },
    {
     "cell_type": "code",
     "collapsed": false,
     "input": [
      "#PCA para 4 palavras\n",
      "\n",
      "medias = (animais[0] + animais[1] + animais[2] + animais[3])/4\n",
      "ajuste = np.zeros((4,100))\n",
      "for i in range(4):\n",
      "    ajuste[i] = (animais[i]- medias)\n",
      "    \n",
      "cov = np.cov(ajuste.T)\n",
      "\n",
      "w, v = LA.eig(cov)\n",
      "\n",
      "n1 = 0\n",
      "n2 = 0\n",
      "pos = [0,0]\n",
      "\n",
      "for i in range(100):\n",
      "    if n1 < w[i]:\n",
      "        n1 = w[i]\n",
      "        pos[0] = i\n",
      "for i in range(100):\n",
      "    if n2 < w[i] and n1!= w[i]:\n",
      "        n2 = w[i]\n",
      "        pos[1] = i\n",
      "print n1, n2, pos, len(v[0]),"
     ],
     "language": "python",
     "metadata": {},
     "outputs": []
    },
    {
     "cell_type": "code",
     "collapsed": false,
     "input": [
      "M = np.zeros((100,2))\n",
      "\n",
      "for i in range(100):\n",
      "    M[i][0] = v[i][0]\n",
      "    M[i][1] = v[i][1]\n",
      "\n",
      "Final = np.dot(M.T, ajuste.T) \n",
      "print Final"
     ],
     "language": "python",
     "metadata": {},
     "outputs": []
    },
    {
     "cell_type": "code",
     "collapsed": false,
     "input": [
      "plt.plot(Final[0][0], Final[1][0], 'ro', label = \"mulher\")\n",
      "plt.plot(Final[0][1], Final[1][1], 'bo', label = \"homem\")\n",
      "plt.plot(Final[0][2], Final[1][2], 'co', label = \"bonito\")\n",
      "plt.plot(Final[0][3], Final[1][3], 'mo', label = \"feio\")\n",
      "plt.legend(loc='upper right')\n",
      "plt.axis([-2.5, 3, -2.5, 3])\n",
      "plt.show()"
     ],
     "language": "python",
     "metadata": {},
     "outputs": []
    },
    {
     "cell_type": "code",
     "collapsed": false,
     "input": [
      "plt.plot(Final[0][0], Final[1][0], 'ro', label = \"woman\")\n",
      "plt.plot(Final[0][1], Final[1][1], 'bo', label = \"man\")\n",
      "plt.plot(Final[0][2], Final[1][2], 'co', label = \"pretty\")\n",
      "plt.plot(Final[0][3], Final[1][3], 'mo', label = \"ugly\")\n",
      "plt.legend(loc='upper right')\n",
      "plt.axis([-2, 3, -2, 3])\n",
      "plt.show()"
     ],
     "language": "python",
     "metadata": {},
     "outputs": []
    },
    {
     "cell_type": "code",
     "collapsed": false,
     "input": [
      "#PCA para 6 palavras\n",
      "\n",
      "medias = (animais[0] + animais[1] + animais[2] + animais[3] + animais[4] + animais[5])/6\n",
      "ajuste = np.zeros((6,100))\n",
      "for i in range(6):\n",
      "    ajuste[i] = (animais[i]- medias)\n",
      "    \n",
      "cov = np.cov(ajuste.T)\n",
      "\n",
      "w, v = LA.eig(cov)\n",
      "\n",
      "n1 = 0\n",
      "n2 = 0\n",
      "pos = [0,0]\n",
      "\n",
      "for i in range(100):\n",
      "    if n1 < w[i]:\n",
      "        n1 = w[i]\n",
      "        pos[0] = i\n",
      "for i in range(100):\n",
      "    if n2 < w[i] and n1!= w[i]:\n",
      "        n2 = w[i]\n",
      "        pos[1] = i\n",
      "print n1, n2, pos, len(v[0]),\n",
      "\n",
      "M = np.zeros((100,2))\n",
      "\n",
      "for i in range(100):\n",
      "    M[i][0] = v[i][0]\n",
      "    M[i][1] = v[i][1]\n",
      "\n",
      "Final = np.dot(M.T, ajuste.T) \n",
      "print Final"
     ],
     "language": "python",
     "metadata": {},
     "outputs": []
    },
    {
     "cell_type": "code",
     "collapsed": false,
     "input": [
      "plt.plot(Final[0][0], Final[1][0], 'ro', label = \"mulher\")\n",
      "plt.plot(Final[0][1], Final[1][1], 'bo', label = \"homem\")\n",
      "plt.plot(Final[0][2], Final[1][2], 'co', label = \"bonito\")\n",
      "plt.plot(Final[0][3], Final[1][3], 'mo', label = \"feio\")\n",
      "plt.plot(Final[0][4], Final[1][4], 'yo', label = \"grande\")\n",
      "plt.plot(Final[0][5], Final[1][5], 'go', label = \"pequeno\")\n",
      "plt.legend(loc='upper right')\n",
      "plt.axis([-2.5, 3, -2.5, 3])\n",
      "plt.show()"
     ],
     "language": "python",
     "metadata": {},
     "outputs": []
    },
    {
     "cell_type": "code",
     "collapsed": false,
     "input": [
      "plt.plot(Final[0][0], Final[1][0], 'ro', label = \"woman\")\n",
      "plt.plot(Final[0][1], Final[1][1], 'bo', label = \"man\")\n",
      "plt.plot(Final[0][2], Final[1][2], 'co', label = \"pretty\")\n",
      "plt.plot(Final[0][3], Final[1][3], 'mo', label = \"ugly\")\n",
      "plt.plot(Final[0][4], Final[1][4], 'yo', label = \"big\")\n",
      "plt.plot(Final[0][5], Final[1][5], 'go', label = \"small\")\n",
      "plt.legend(loc='upper right')\n",
      "plt.axis([-2, 3, -2, 3])\n",
      "plt.show()"
     ],
     "language": "python",
     "metadata": {},
     "outputs": []
    }
   ],
   "metadata": {}
  }
 ]
}