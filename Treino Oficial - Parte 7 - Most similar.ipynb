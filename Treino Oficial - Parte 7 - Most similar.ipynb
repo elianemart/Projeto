{
 "metadata": {
  "name": ""
 },
 "nbformat": 3,
 "nbformat_minor": 0,
 "worksheets": [
  {
   "cells": [
    {
     "cell_type": "code",
     "collapsed": false,
     "input": [
      "import gensim\n",
      "data = ''\n",
      "modelpt = gensim.models.Word2Vec.load(data)"
     ],
     "language": "python",
     "metadata": {},
     "outputs": [],
     "prompt_number": 1
    },
    {
     "cell_type": "code",
     "collapsed": false,
     "input": [
      "print modelpt.most_similar(positive=['mulher', 'rei'], negative=['homem'], topn=1)\n",
      "print modelpt.most_similar(positive=[u'menina',u'menino'], negative=[u'homem'], topn=1)[0][0]\n",
      "print modelpt.most_similar(positive=[u'menina',u'menino'], negative=[u'mulher'], topn=1)[0][0]\n",
      "print modelpt.most_similar(positive=[u'bom',u'ruim'], negative=[u'triste'], topn=1)[0][0]\n",
      "print modelpt.most_similar(positive=[u'fran\u00e7a',u'brasil'], negative=[u'franc\u00eas'], topn=1)[0][0]"
     ],
     "language": "python",
     "metadata": {},
     "outputs": [
      {
       "output_type": "stream",
       "stream": "stdout",
       "text": [
        "[(u'consorte', 0.742343008518219)]\n",
        "mo\u00e7a\n",
        "garoto"
       ]
      },
      {
       "output_type": "stream",
       "stream": "stdout",
       "text": [
        "\n",
        "\u00f3timo\n",
        "espanha"
       ]
      },
      {
       "output_type": "stream",
       "stream": "stdout",
       "text": [
        "\n"
       ]
      }
     ],
     "prompt_number": 2
    },
    {
     "cell_type": "code",
     "collapsed": false,
     "input": [
      "print modelpt.most_similar(positive=[u'fran\u00e7a', u'it\u00e1lia'], negative=[u'paris'], topn=1)[0][0]\n",
      "print modelpt.most_similar(positive=[u'areia',u'montanha'], negative=[u'praia'], topn=1)[0][0]\n",
      "print modelpt.most_similar(positive=[u'ele',u'atriz'], negative=[u'ela'], topn=1)[0][0]\n",
      "print modelpt.most_similar(positive=[u'bonito',u'sujo'], negative=[u'feio'], topn=1)[0][0]\n",
      "print modelpt.most_similar(positive=[u'maior',u'pequeno'], negative=[u'grande'], topn=1)[0][0]"
     ],
     "language": "python",
     "metadata": {},
     "outputs": [
      {
       "output_type": "stream",
       "stream": "stdout",
       "text": [
        "holanda\n",
        "montanhas\n",
        "ator"
       ]
      },
      {
       "output_type": "stream",
       "stream": "stdout",
       "text": [
        "\n",
        "limpo\n",
        "menor"
       ]
      },
      {
       "output_type": "stream",
       "stream": "stdout",
       "text": [
        "\n"
       ]
      }
     ],
     "prompt_number": 5
    },
    {
     "cell_type": "code",
     "collapsed": false,
     "input": [
      "import gensim\n",
      "data = '/home/lili/Desktop/Projeto/treino/model-english'\n",
      "model = gensim.models.Word2Vec.load(data)"
     ],
     "language": "python",
     "metadata": {},
     "outputs": [],
     "prompt_number": 6
    },
    {
     "cell_type": "code",
     "collapsed": false,
     "input": [
      "print model.most_similar(positive=['woman', 'king'], negative=['man'], topn=1)\n",
      "print model.most_similar(positive=['girl', 'boy'], negative=['woman'], topn=1)\n",
      "print model.most_similar(positive=['girl', 'boy'], negative=['man'], topn=1)\n",
      "print model.most_similar(positive=['good', 'happy'], negative=['sad'], topn=1)\n",
      "print model.most_similar(positive=['france', 'brazil'], negative=['french'], topn=1)\n",
      "print model.most_similar(positive=['france', 'italy'], negative=['paris'], topn=1)"
     ],
     "language": "python",
     "metadata": {},
     "outputs": [
      {
       "output_type": "stream",
       "stream": "stdout",
       "text": [
        "[(u'queen', 0.7561325430870056)]\n",
        "[(u'kid', 0.6760451197624207)]\n",
        "[(u'baby', 0.6266578435897827)]"
       ]
      },
      {
       "output_type": "stream",
       "stream": "stdout",
       "text": [
        "\n",
        "[(u'pleased', 0.6076223850250244)]\n",
        "[(u'argentina', 0.7524809837341309)]"
       ]
      },
      {
       "output_type": "stream",
       "stream": "stdout",
       "text": [
        "\n",
        "[(u'spain', 0.7961961627006531)]\n"
       ]
      }
     ],
     "prompt_number": 8
    },
    {
     "cell_type": "code",
     "collapsed": false,
     "input": [
      "print model.most_similar(positive=['he', 'actress'], negative=['she'], topn=1)\n",
      "print model.most_similar(positive=['beautiful', 'dirty'], negative=['ugly'], topn=1)\n",
      "print model.most_similar(positive=[u'small', u'bigger'], negative=[u'big'], topn=1)\n"
     ],
     "language": "python",
     "metadata": {},
     "outputs": [
      {
       "output_type": "stream",
       "stream": "stdout",
       "text": [
        "[(u'actor', 0.8428033590316772)]\n",
        "[(u'filthy', 0.5694750547409058)]\n",
        "[(u'larger', 0.7266532778739929)]"
       ]
      },
      {
       "output_type": "stream",
       "stream": "stdout",
       "text": [
        "\n"
       ]
      }
     ],
     "prompt_number": 11
    }
   ],
   "metadata": {}
  }
 ]
}