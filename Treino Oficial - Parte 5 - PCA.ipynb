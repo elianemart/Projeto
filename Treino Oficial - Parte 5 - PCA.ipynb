{
 "metadata": {
  "name": ""
 },
 "nbformat": 3,
 "nbformat_minor": 0,
 "worksheets": [
  {
   "cells": [
    {
     "cell_type": "code",
     "collapsed": false,
     "input": [
      "from numpy import linalg as LA\n",
      "import numpy as np\n",
      "import gensim\n",
      "import matplotlib.pyplot as plt\n",
      "import math\n",
      "\n",
      "path = ''"
     ],
     "language": "python",
     "metadata": {},
     "outputs": [],
     "prompt_number": 6
    },
    {
     "cell_type": "code",
     "collapsed": false,
     "input": [
      "model_pt = gensim.models.Word2Vec.load(path + 'model-portuguese')\n",
      "model_en = gensim.models.Word2Vec.load(path + 'model-english')"
     ],
     "language": "python",
     "metadata": {},
     "outputs": [],
     "prompt_number": 7
    },
    {
     "cell_type": "markdown",
     "metadata": {},
     "source": [
      "Nesse treino ser\u00e3o gerados exemplos utilizando a t\u00e9cnica de PCA.\n",
      "\u00c9 necess\u00e1rio 4 pares de palavras, em portugu\u00eas e sua tradu\u00e7\u00e3o em ingl\u00eas. \n",
      "O primeiro passo ser\u00e1 obter os vetores para cada uma dessas palavras."
     ]
    },
    {
     "cell_type": "code",
     "collapsed": false,
     "input": [
      "animais_pt = []\n",
      "animais_en = []\n",
      "\n",
      "\n",
      "palavras_pt = [u'bom', u'ruim', u'feliz', u'triste']\n",
      "palavras_en = [u'good', u'bad', u'happy', u'sad']\n",
      "\n",
      "animais_pt.append(model_pt[palavras_pt[0]])\n",
      "animais_pt.append(model_pt[palavras_pt[1]])\n",
      "animais_pt.append(model_pt[palavras_pt[2]])\n",
      "animais_pt.append(model_pt[palavras_pt[3]])\n",
      "\n",
      "animais_en.append(model_en[palavras_en[0]])\n",
      "animais_en.append(model_en[palavras_en[1]])\n",
      "animais_en.append(model_en[palavras_en[2]])\n",
      "animais_en.append(model_en[palavras_en[3]])\n"
     ],
     "language": "python",
     "metadata": {},
     "outputs": [],
     "prompt_number": 184
    },
    {
     "cell_type": "code",
     "collapsed": false,
     "input": [
      "medias_pt = (animais_pt[0] + animais_pt[1] + animais_pt[2] + animais_pt[3])/4\n",
      "medias_en = (animais_en[0] + animais_en[1] + animais_en[2] + animais_en[3])/4\n",
      "\n",
      "ajuste_pt = np.zeros((4,100))\n",
      "ajuste_en = np.zeros((4,100))\n",
      "\n",
      "for i in range(4):\n",
      "    ajuste_pt[i] = (animais_pt[i]- medias_pt)\n",
      "    ajuste_en[i] = (animais_en[i]- medias_en)\n",
      "\n",
      "cov_pt = np.cov(np.transpose(ajuste_pt))\n",
      "cov_en = np.cov(np.transpose(ajuste_en))\n",
      "\n",
      "wp, vp = LA.eig(cov_pt)\n",
      "we, ve = LA.eig(cov_en)\n",
      "\n",
      "n1 = 0\n",
      "n2 = 0\n",
      "pos = [0,0]\n",
      "\n",
      "for i in range(100):\n",
      "    if n1 < wp[i]:\n",
      "        n1 = wp[i]\n",
      "        pos[0] = i\n",
      "for i in range(100):\n",
      "    if n2 < wp[i] and n1!= wp[i]:\n",
      "        n2 = wp[i]\n",
      "        pos[1] = i\n",
      "print pos\n",
      "n1 = 0\n",
      "n2 = 0\n",
      "pos = [0,0]\n",
      "\n",
      "for i in range(100):\n",
      "    if n1 < we[i]:\n",
      "        n1 = we[i]\n",
      "        pos[0] = i\n",
      "for i in range(100):\n",
      "    if n2 < we[i] and n1!= we[i]:\n",
      "        n2 = we[i]\n",
      "        pos[1] = i\n",
      "print pos"
     ],
     "language": "python",
     "metadata": {},
     "outputs": [
      {
       "output_type": "stream",
       "stream": "stdout",
       "text": [
        "[0, 1]\n",
        "[0, 1]\n"
       ]
      }
     ],
     "prompt_number": 185
    },
    {
     "cell_type": "code",
     "collapsed": false,
     "input": [
      "Mp = np.zeros((100,2))\n",
      "Me = np.zeros((100,2))\n",
      "\n",
      "for i in range(100):\n",
      "    Mp[i][0] = vp[i][0]\n",
      "    Mp[i][1] = vp[i][1]\n",
      "\n",
      "    Me[i][0] = ve[i][0]\n",
      "    Me[i][1] = ve[i][1]\n",
      "    \n",
      "Final_pt = np.dot(np.transpose(Mp),np.transpose(ajuste_pt)) \n",
      "Final_en = np.dot(np.transpose(Me),np.transpose(ajuste_en))\n",
      "print Final_en"
     ],
     "language": "python",
     "metadata": {},
     "outputs": [
      {
       "output_type": "stream",
       "stream": "stdout",
       "text": [
        "[[-0.76062629 -0.54054846  0.26069029  1.04048445]\n",
        " [ 0.02084309  0.44774242 -0.95593977  0.48735423]]\n"
       ]
      }
     ],
     "prompt_number": 186
    },
    {
     "cell_type": "code",
     "collapsed": false,
     "input": [
      "%matplotlib inline\n",
      "\n",
      "plt.plot(Final_pt[0][0], Final_pt[1][0], 'co', label = palavras_pt[0])\n",
      "plt.plot(Final_pt[0][1], Final_pt[1][1], 'mo', label = palavras_pt[1])\n",
      "plt.plot(Final_pt[0][2], Final_pt[1][2], 'yo', label = palavras_pt[2])\n",
      "plt.plot(Final_pt[0][3], Final_pt[1][3], 'ko', label = palavras_pt[3])\n",
      "plt.legend(loc='upper right')\n",
      "plt.axis([-2.5, 3, -2.5, 3])\n",
      "plt.show()\n",
      "plt.plot(Final_en[0][0], Final_en[1][0], 'co', label = palavras_en[0])\n",
      "plt.plot(Final_en[0][1], Final_en[1][1], 'mo', label = palavras_en[1])\n",
      "plt.plot(Final_en[0][2], Final_en[1][2], 'yo', label = palavras_en[2])\n",
      "plt.plot(Final_en[0][3], Final_en[1][3], 'ko', label = palavras_en[3])\n",
      "plt.legend(loc='upper right')\n",
      "plt.axis([-2.5, 3, -2.5, 3])\n",
      "plt.show()"
     ],
     "language": "python",
     "metadata": {},
     "outputs": []
    },
    {
     "cell_type": "code",
     "collapsed": false,
     "input": [
      "#ang = math.pi\n",
      "rot = np.array([[math.cos(ang), math.sin(ang)],[-math.sin(ang), math.cos(ang)]])\n",
      "#rot = np.array([[-1, 0],[0,-1]]) #180\n",
      "rot = np.array([[0, -1],[1,0]]) #90\n",
      "print rot"
     ],
     "language": "python",
     "metadata": {},
     "outputs": [
      {
       "output_type": "stream",
       "stream": "stdout",
       "text": [
        "[[ 0 -1]\n",
        " [ 1  0]]\n"
       ]
      }
     ],
     "prompt_number": 197
    },
    {
     "cell_type": "code",
     "collapsed": false,
     "input": [
      "Final_en_novo = Final_en\n",
      "\n",
      "for i in range(4):\n",
      "    x1 = Final_en[0][i]\n",
      "    x2 = Final_en[1][i]\n",
      "    X = np.array([[x1],[x2]])\n",
      "    produto = np.dot(rot,X)\n",
      "    Final_en_novo[0][i] = produto[0]\n",
      "    Final_en_novo[1][i] = produto[1]"
     ],
     "language": "python",
     "metadata": {},
     "outputs": [],
     "prompt_number": 198
    },
    {
     "cell_type": "code",
     "collapsed": false,
     "input": [
      "%matplotlib inline\n",
      "\n",
      "plt.plot(Final_pt[0][0], Final_pt[1][0], 'co', label = palavras_pt[0])\n",
      "plt.plot(Final_pt[0][1], Final_pt[1][1], 'mo', label = palavras_pt[1])\n",
      "plt.plot(Final_pt[0][2], Final_pt[1][2], 'yo', label = palavras_pt[2])\n",
      "plt.plot(Final_pt[0][3], Final_pt[1][3], 'ko', label = palavras_pt[3])\n",
      "plt.legend(loc='upper right')\n",
      "plt.axis([-2.5, 3, -2.5, 3])\n",
      "plt.show()\n",
      "plt.plot(Final_en_novo[0][0], Final_en_novo[1][0], 'co', label = palavras_en[0])\n",
      "plt.plot(Final_en_novo[0][1], Final_en_novo[1][1], 'mo', label = palavras_en[1])\n",
      "plt.plot(Final_en_novo[0][2], Final_en_novo[1][2], 'yo', label = palavras_en[2])\n",
      "plt.plot(Final_en_novo[0][3], Final_en_novo[1][3], 'ko', label = palavras_en[3])\n",
      "plt.legend(loc='upper right')\n",
      "plt.axis([-2.5, 3, -2.5, 3])\n",
      "plt.show()"
     ],
     "language": "python",
     "metadata": {},
     "outputs": []
    }
   ],
   "metadata": {}
  }
 ]
}