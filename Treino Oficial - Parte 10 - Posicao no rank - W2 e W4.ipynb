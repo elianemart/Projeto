{
 "metadata": {
  "name": ""
 },
 "nbformat": 3,
 "nbformat_minor": 0,
 "worksheets": [
  {
   "cells": [
    {
     "cell_type": "raw",
     "metadata": {},
     "source": []
    },
    {
     "cell_type": "code",
     "collapsed": false,
     "input": [
      "import gensim\n",
      "import codecs\n",
      "import numpy as np\n",
      "import time\n",
      "from sklearn.metrics.pairwise import cosine_similarity\n",
      "\n",
      "path = '/home/rsouza/Downloads/Eliane/'\n",
      "alpha2 = 10**(-11)\n",
      "alpha4 = 10**(-13)"
     ],
     "language": "python",
     "metadata": {},
     "outputs": [],
     "prompt_number": 1
    },
    {
     "cell_type": "code",
     "collapsed": false,
     "input": [
      "modelen = gensim.models.Word2Vec.load(path + 'model-english')\n",
      "modelpt = gensim.models.Word2Vec.load(path + 'model-portuguese')"
     ],
     "language": "python",
     "metadata": {},
     "outputs": [],
     "prompt_number": 2
    },
    {
     "cell_type": "raw",
     "metadata": {},
     "source": [
      "Gerar W2 e W4"
     ]
    },
    {
     "cell_type": "code",
     "collapsed": false,
     "input": [
      "#Abrir documentos com os vetores salvos\n",
      "\n",
      "h = codecs.open(path + 'on_model_en.txt', encoding = 'utf-8', mode = 'r')\n",
      "i = codecs.open(path + 'on_model_pt.txt', encoding = 'utf-8', mode = 'r')\n",
      "\n",
      "words_en = h.read().split()\n",
      "words_pt = i.read().split()"
     ],
     "language": "python",
     "metadata": {},
     "outputs": [],
     "prompt_number": 3
    },
    {
     "cell_type": "code",
     "collapsed": false,
     "input": [
      "W2 = np.random.rand(100,100)\n",
      "W4 = np.random.rand(100,100)\n",
      "\n",
      "for i in range(15):\n",
      "    for k in range(3311):\n",
      "        X = modelpt[words_pt[k]][np.newaxis]\n",
      "        y = modelen[words_en[k]][np.newaxis]\n",
      "        \n",
      "        z = np.dot(X,W4)\n",
      "        y4 = 1/(1+np.exp(-z)) #fun\u00e7\u00e3o sigmoide\n",
      "        sigd = np.exp(-z)/((1+np.exp(-z))**2) #derivada da fun\u00e7\u00e3o sigmoide    \n",
      "        y2 = np.dot(X,W2)\n",
      "        \n",
      "        dif1 = (y - y2)\n",
      "        dif2 = np.multiply((y - y4),sigd)\n",
      "        djdw2 = np.dot(np.transpose(X),dif1)\n",
      "        djdw4 = np.dot(np.transpose(X),dif2)\n",
      "\n",
      "        W2 = W2 - djdw2*alpha2\n",
      "        W4 = W4 - djdw4*alpha4"
     ],
     "language": "python",
     "metadata": {},
     "outputs": [],
     "prompt_number": 5
    },
    {
     "cell_type": "code",
     "collapsed": false,
     "input": [
      "voc = modelen.vocab.keys()\n",
      "\n",
      "t0 = time.time()\n",
      "\n",
      "pos_rank2 = np.ones(1500) *400000\n",
      "palavras2 = [u'none']*1500\n",
      "\n",
      "pos_rank4 = np.ones(1500) *400000\n",
      "palavras4 = [u'none']*1500\n",
      "\n",
      "for i in range(1500): #para cada pivo\n",
      "    if 100%i != 0:\n",
      "        t1 = (time.time()-t0)/60.\n",
      "        print i, t1\n",
      "    \n",
      "    X = modelpt[words_pt[i + 3311]]\n",
      "    y2 = np.dot(X,W2)\n",
      "    y4 = np.dot(X,W4)\n",
      "    \n",
      "    for j in range(len(voc)): #para cada voc\n",
      "        sim2 = cosine_similarity(y2, modelen[voc[j]])[0][0]\n",
      "        sim4 = cosine_similarity(y4, modelen[voc[j]])[0][0]\n",
      "        \n",
      "        \n",
      "        if sim2>0:  #se sim1 for negativo n\u00e3o interessa\n",
      "            topk1 = modelen.most_similar(positive=[voc[0]], topn=1)\n",
      "            if sim2>topk1[0][1]: #se sim1 for maior que a primeira posi\u00e7\u00e3o n\u00e3o tem o que buscar\n",
      "                r = 0\n",
      "                pos_rank2[i] = 0\n",
      "                palavras2[i] = voc[j]\n",
      "            else:\n",
      "                topk1 = modelen.most_similar(positive=[voc[0]], topn=500000)\n",
      "                r = 0\n",
      "                cos = topk1[0][1]\n",
      "                while (sim2 < cos) and pos_rank2[i]>r:\n",
      "                    r = r+1\n",
      "                    cos = topk1[r][1]\n",
      "                    \n",
      "                if (sim2>cos) and (pos_rank2[i] > r):\n",
      "                    pos_rank2[i] = r\n",
      "                    palavras2[i] = voc[j]\n",
      "        \n",
      "        if sim4>0:  #se sim1 for negativo n\u00e3o interessa\n",
      "            topk1 = modelen.most_similar(positive=[voc[0]], topn=1)\n",
      "            if sim4>topk1[0][1]: #se sim1 for maior que a primeira posi\u00e7\u00e3o n\u00e3o tem o que buscar\n",
      "                r = 0\n",
      "                pos_rank4[i] = 0\n",
      "                palavras4[i] = voc[j]\n",
      "            else:\n",
      "                topk1 = modelen.most_similar(positive=[voc[0]], topn=500000)\n",
      "                r = 0\n",
      "                cos = topk1[0][1]\n",
      "                while (sim4 < cos) and pos_rank4[i]>r:\n",
      "                    r = r+1\n",
      "                    cos = topk1[r][1]\n",
      "                    \n",
      "                if (sim4>cos) and (pos_rank4[i] > r):\n",
      "                    pos_rank4[i] = r\n",
      "                    palavras4[i] = voc[j]\n",
      "\n"
     ],
     "language": "python",
     "metadata": {},
     "outputs": [
      {
       "output_type": "stream",
       "stream": "stdout",
       "text": [
        "[ 268322.  276645.  400000.  400000.  113708.   56057.   82773.  141128.\n",
        "  400000.   57016.  196177.  400000.  400000.  400000.  400000.   42395.\n",
        "  101964.  400000.  400000.  400000.] [u'biennials', u'biysk', u'none', u'none', u'biysk', u'tripolitan', u'tripolitan', u'tripolitan', u'none', u'tripolitan', u'tripolitan', u'none', u'none', u'none', u'none', u'tripolitan', u'tripolitan', u'none', u'none', u'none']\n"
       ]
      }
     ],
     "prompt_number": 23
    },
    {
     "cell_type": "code",
     "collapsed": false,
     "input": [
      "f1 = codecs.open(path + 'posrank2.txt', encoding = 'utf-8', mode = 'w')\n",
      "f2 = codecs.open(path + 'palavras2.txt', encoding = 'utf-8', mode = 'w')\n",
      "f3 = codecs.open(path + 'posrank4.txt', encoding = 'utf-8', mode = 'w')\n",
      "f4 = codecs.open(path + 'palavras4.txt', encoding = 'utf-8', mode = 'w')\n",
      "\n",
      "\n",
      "for i in range(1500):\n",
      "    f1.write(str(pos_rank2[i]))\n",
      "    f1.write('\\n')\n",
      "    \n",
      "    f2.write(palavras2[i])\n",
      "    f2.write('\\n')\n",
      "    \n",
      "    f3.write(str(pos_rank4[i]))\n",
      "    f3.write('\\n')\n",
      "    \n",
      "    f4.write(palavras4[i])\n",
      "    f4.write('\\n')\n",
      "\n",
      "f1.close()\n",
      "f2.close()\n",
      "f3.close()\n",
      "f4.close()"
     ],
     "language": "python",
     "metadata": {},
     "outputs": [],
     "prompt_number": 22
    }
   ],
   "metadata": {}
  }
 ]
}