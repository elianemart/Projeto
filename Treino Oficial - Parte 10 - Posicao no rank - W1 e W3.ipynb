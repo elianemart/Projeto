{
 "metadata": {
  "name": ""
 },
 "nbformat": 3,
 "nbformat_minor": 0,
 "worksheets": [
  {
   "cells": [
    {
     "cell_type": "raw",
     "metadata": {},
     "source": [
      "Posi\u00e7\u00e3o da palavra correta no rank do piv\u00f4s"
     ]
    },
    {
     "cell_type": "code",
     "collapsed": false,
     "input": [
      "import gensim\n",
      "import codecs\n",
      "import numpy as np\n",
      "import time\n",
      "from sklearn.metrics.pairwise import cosine_similarity\n",
      "\n",
      "path = ''\n",
      "\n",
      "alpha1 = 10**(-16) \n",
      "alpha3 = 10**(-11)"
     ],
     "language": "python",
     "metadata": {},
     "outputs": [],
     "prompt_number": 1
    },
    {
     "cell_type": "code",
     "collapsed": false,
     "input": [
      "modelen = gensim.models.Word2Vec.load(path + 'model-english')\n",
      "modelpt = gensim.models.Word2Vec.load(path + 'model-portuguese')"
     ],
     "language": "python",
     "metadata": {},
     "outputs": [],
     "prompt_number": 2
    },
    {
     "cell_type": "code",
     "collapsed": false,
     "input": [
      "#Abrir documentos com os vetores salvos\n",
      "\n",
      "h = codecs.open(path + 'on_model_en.txt', encoding = 'utf-8', mode = 'r')\n",
      "i = codecs.open(path + 'on_model_pt.txt', encoding = 'utf-8', mode = 'r')\n",
      "\n",
      "words_en = h.read().split()\n",
      "words_pt = i.read().split()"
     ],
     "language": "python",
     "metadata": {},
     "outputs": [],
     "prompt_number": 3
    },
    {
     "cell_type": "code",
     "collapsed": false,
     "input": [
      "W1 = np.random.rand(100,100)\n",
      "W3 = np.random.rand(100,100)\n",
      "\n",
      "for k in range(3311):\n",
      "    X = modelpt[words_pt[k]][np.newaxis]\n",
      "    y = modelen[words_en[k]][np.newaxis]\n",
      "    #print X\n",
      "    #X \u00e9 o vetor input, yo \u00e9 o calculado e y \u00e9 o output esperado\n",
      "    y1 = np.dot(X,W1)\n",
      "    z = np.dot(X,W3)\n",
      "    y3 = 1/(1+np.exp(-z)) #fun\u00e7\u00e3o sigmoide\n",
      "    sigd = np.exp(-z)/((1+np.exp(-z))**2) #derivada da fun\u00e7\u00e3o sigmoide\n",
      "    \n",
      "    dif1 = y - y3\n",
      "    dif3 = np.multiply((y - y3),sigd)\n",
      "    \n",
      "    djdw1 = np.dot(np.transpose(X),dif1)\n",
      "    djdw3 = np.dot(np.transpose(X),dif3)\n",
      "\n",
      "    W1 = W1 - djdw1*alpha1\n",
      "    W3 = W3 - djdw3*alpha3"
     ],
     "language": "python",
     "metadata": {},
     "outputs": [],
     "prompt_number": 4
    },
    {
     "cell_type": "code",
     "collapsed": false,
     "input": [
      "voc = modelen.vocab.keys()\n",
      "t0 = time.time()\n",
      "\n",
      "pos_rank1 = np.ones(1500) *400000\n",
      "palavras1 = [u'none']*1500\n",
      "\n",
      "pos_rank3 = np.ones(1500) *400000\n",
      "palavras3 = [u'none']*1500\n",
      "\n",
      "\n",
      "for i in range(1500): #para cada pivo\n",
      "    t1 = (time.time()-t0)/60.\n",
      "    X = modelpt[words_pt[i + 3311]]\n",
      "    \n",
      "    y1 = np.dot(X,W1)\n",
      "    y3 = np.dot(X,W3)\n",
      "    \n",
      "    for j in range(10): #para cada voc\n",
      "        sim1 = cosine_similarity(y1, modelen[voc[j]])[0][0]\n",
      "        sim3 = cosine_similarity(y3, modelen[voc[j]])[0][0]\n",
      "        \n",
      "\n",
      "        if sim1>0:  #se sim1 for negativo n\u00e3o interessa\n",
      "            topk1 = modelen.most_similar(positive=[voc[0]], topn=100)\n",
      "            \n",
      "            k = 99\n",
      "            if topk1[99][1]<sim1:\n",
      "                while topk1[k][1]<sim1:\n",
      "                    k = k - 1\n",
      "                if pos_rank1[i]>k:\n",
      "                    pos_rank[i] = k\n",
      "                    palavras[i] = voc[j]            \n",
      "\n",
      "t1 = (time.time()-t0)/60.\n",
      "print t1"
     ],
     "language": "python",
     "metadata": {},
     "outputs": [
      {
       "output_type": "stream",
       "stream": "stdout",
       "text": [
        "4.92580868403\n"
       ]
      }
     ],
     "prompt_number": 7
    },
    {
     "cell_type": "code",
     "collapsed": false,
     "input": [
      "f1 = codecs.open(path + 'posrank5.txt', encoding = 'utf-8', mode = 'w')\n",
      "f2 = codecs.open(path + 'palavras5.txt', encoding = 'utf-8', mode = 'w')\n",
      "f3 = codecs.open(path + 'posrank6.txt', encoding = 'utf-8', mode = 'w')\n",
      "f4 = codecs.open(path + 'palavras6.txt', encoding = 'utf-8', mode = 'w')\n",
      "\n",
      "\n",
      "for i in range(1500):\n",
      "    f1.write(str(pos_rank1[i]))\n",
      "    f1.write('\\n')\n",
      "    \n",
      "    f2.write(palavras1[i])\n",
      "    f2.write('\\n')\n",
      "    \n",
      "    f3.write(str(pos_rank3[i]))\n",
      "    f3.write('\\n')\n",
      "    \n",
      "    f4.write(palavras3[i])\n",
      "    f4.write('\\n')\n",
      "\n",
      "f1.close()\n",
      "f2.close() \n",
      "f3.close()\n",
      "f4.close()"
     ],
     "language": "python",
     "metadata": {},
     "outputs": [],
     "prompt_number": 22
    }
   ],
   "metadata": {}
  }
 ]
}